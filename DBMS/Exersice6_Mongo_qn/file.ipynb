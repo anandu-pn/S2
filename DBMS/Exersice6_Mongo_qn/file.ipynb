{
 "cells": [
  {
   "cell_type": "code",
   "execution_count": 9,
   "metadata": {},
   "outputs": [],
   "source": [
    "from pymongo import MongoClient\n",
    "conn = MongoClient(\"mongodb://localhost:27017/\")\n",
    "db = conn[\"test1\"]\n",
    "collection = db[\"student\"]"
   ]
  },
  {
   "cell_type": "code",
   "execution_count": null,
   "metadata": {},
   "outputs": [
    {
     "data": {
      "text/plain": [
       "InsertManyResult([1, 2, 3, 4, 5, 6, 7, 8, 9, 10, 11, 12, 13, 14, 15, 16, 17, 18, 19, 20, 21, 22, 23, 24, 25, 26, 27, 28, 29, 30], acknowledged=True)"
      ]
     },
     "execution_count": 12,
     "metadata": {},
     "output_type": "execute_result"
    }
   ],
   "source": [
    "#insert values\n",
    "document = [\n",
    "    {\"_id\": 1, \"first_name\": \"Anu\", \"last_name\": \"Joseph\", \"gender\": \"Female\", \"mark\": 95, \"grade\": \"A+\", \"department\": \"MCA\", \"place\": \"Kollam\", \"course\": \"MCA\"},\n",
    "    {\"_id\": 2, \"first_name\": \"Arun\", \"last_name\": \"Kumar\", \"gender\": \"Male\", \"mark\": 89, \"grade\": \"A\", \"department\": \"Mechanical\", \"place\": \"Ernakulam\", \"course\": \"Btech Mechanical\"},\n",
    "    {\"_id\": 3, \"first_name\": \"Meera\", \"last_name\": \"Raj\", \"gender\": \"Female\", \"mark\": 92, \"grade\": \"A+\", \"department\": \"MCA\", \"place\": \"Thiruvananthapuram\", \"course\": \"MCA\"},\n",
    "    {\"_id\": 4, \"first_name\": \"Abhilash\", \"last_name\": \"Menon\", \"gender\": \"Male\", \"mark\": 85, \"grade\": \"A\", \"department\": \"Mechanical\", \"place\": \"Kozhikode\", \"course\": \"Btech Mechanical\"},\n",
    "    {\"_id\": 5, \"first_name\": \"Asha\", \"last_name\": \"Nair\", \"gender\": \"Female\", \"mark\": 88, \"grade\": \"A+\", \"department\": \"MCA\", \"place\": \"Kottayam\", \"course\": \"MCA\"},\n",
    "    {\"_id\": 6, \"first_name\": \"Binu\", \"last_name\": \"George\", \"gender\": \"Male\", \"mark\": 76, \"grade\": \"B\", \"department\": \"Mechanical\", \"place\": \"Kollam\", \"course\": \"Btech Mechanical\"},\n",
    "    {\"_id\": 7, \"first_name\": \"Divya\", \"last_name\": \"Pillai\", \"gender\": \"Female\", \"mark\": 98, \"grade\": \"A+\", \"department\": \"MCA\", \"place\": \"Kottayam\", \"course\": \"MCA\"},\n",
    "    {\"_id\": 8, \"first_name\": \"Rahul\", \"last_name\": \"Varma\", \"gender\": \"Male\", \"mark\": 90, \"grade\": \"A+\", \"department\": \"Mechanical\", \"place\": \"Pathanamthitta\", \"course\": \"Btech Mechanical\"},\n",
    "    {\"_id\": 9, \"first_name\": \"Vinay\", \"last_name\": \"Krishna\", \"gender\": \"Male\", \"mark\": 82, \"grade\": \"A\", \"department\": \"Mechanical\", \"place\": \"Thrissur\", \"course\": \"Btech Mechanical\"},\n",
    "    {\"_id\": 10, \"first_name\": \"Ajith\", \"last_name\": \"Das\", \"gender\": \"Male\", \"mark\": 79, \"grade\": \"B\", \"department\": \"MCA\", \"place\": \"Alappuzha\", \"course\": \"MCA\"},\n",
    "    {\"_id\": 11, \"first_name\": \"Sita\", \"last_name\": \"Ram\", \"gender\": \"Female\", \"mark\": 91, \"grade\": \"A+\", \"department\": \"MCA\", \"place\": \"Alappuzha\", \"course\": \"MCA\"},\n",
    "    {\"_id\": 12, \"first_name\": \"Manu\", \"last_name\": \"Sharma\", \"gender\": \"Male\", \"mark\": 78, \"grade\": \"B\", \"department\": \"Mechanical\", \"place\": \"Kannur\", \"course\": \"Btech Mechanical\"},\n",
    "    {\"_id\": 13, \"first_name\": \"Anil\", \"last_name\": \"Rajan\", \"gender\": \"Male\", \"mark\": 86, \"grade\": \"A\", \"department\": \"Mechanical\", \"place\": \"Kollam\", \"course\": \"Btech Mechanical\"},\n",
    "    {\"_id\": 14, \"first_name\": \"Lakshmi\", \"last_name\": \"Menon\", \"gender\": \"Female\", \"mark\": 94, \"grade\": \"A+\", \"department\": \"MCA\", \"place\": \"Palakkad\", \"course\": \"MCA\"},\n",
    "    {\"_id\": 15, \"first_name\": \"Ravi\", \"last_name\": \"Varma\", \"gender\": \"Male\", \"mark\": 83, \"grade\": \"A\", \"department\": \"Mechanical\", \"place\": \"Kottayam\", \"course\": \"Btech Mechanical\"},\n",
    "    {\"_id\": 16, \"first_name\": \"Arya\", \"last_name\": \"Krishnan\", \"gender\": \"Female\", \"mark\": 96, \"grade\": \"A+\", \"department\": \"MCA\", \"place\": \"Kollam\", \"course\": \"MCA\"},\n",
    "    {\"_id\": 17, \"first_name\": \"Hari\", \"last_name\": \"Narayan\", \"gender\": \"Male\", \"mark\": 84, \"grade\": \"A\", \"department\": \"Mechanical\", \"place\": \"Pathanamthitta\", \"course\": \"Btech Mechanical\"},\n",
    "    {\"_id\": 18, \"first_name\": \"Sneha\", \"last_name\": \"Thomas\", \"gender\": \"Female\", \"mark\": 93, \"grade\": \"A+\", \"department\": \"MCA\", \"place\": \"Idukki\", \"course\": \"MCA\"},\n",
    "    {\"_id\": 19, \"first_name\": \"Vineeth\", \"last_name\": \"Mathew\", \"gender\": \"Male\", \"mark\": 81, \"grade\": \"B\", \"department\": \"Mechanical\", \"place\": \"Alappuzha\", \"course\": \"Btech Mechanical\"},\n",
    "    {\"_id\": 20, \"first_name\": \"Geetha\", \"last_name\": \"Prakash\", \"gender\": \"Female\", \"mark\": 97, \"grade\": \"A+\", \"department\": \"MCA\", \"place\": \"Thrissur\", \"course\": \"MCA\"},\n",
    "    {\"_id\": 21, \"first_name\": \"Kiran\", \"last_name\": \"Pillai\", \"gender\": \"Male\", \"mark\": 77, \"grade\": \"B\", \"department\": \"Mechanical\", \"place\": \"Wayanad\", \"course\": \"Btech Mechanical\"},\n",
    "    {\"_id\": 22, \"first_name\": \"Lekha\", \"last_name\": \"Nair\", \"gender\": \"Female\", \"mark\": 90, \"grade\": \"A\", \"department\": \"MCA\", \"place\": \"Ernakulam\", \"course\": \"MCA\"},\n",
    "    {\"_id\": 23, \"first_name\": \"Nitin\", \"last_name\": \"Sankar\", \"gender\": \"Male\", \"mark\": 87, \"grade\": \"A\", \"department\": \"Mechanical\", \"place\": \"Kozhikode\", \"course\": \"Btech Mechanical\"},\n",
    "    {\"_id\": 24, \"first_name\": \"Arya\", \"last_name\": \"Suresh\", \"gender\": \"Female\", \"mark\": 92, \"grade\": \"A+\", \"department\": \"MCA\", \"place\": \"Kasargod\", \"course\": \"MCA\"},\n",
    "    {\"_id\": 25, \"first_name\": \"Sarath\", \"last_name\": \"Ravi\", \"gender\": \"Male\", \"mark\": 83, \"grade\": \"B\", \"department\": \"Mechanical\", \"place\": \"Palakkad\", \"course\": \"Btech Mechanical\"},\n",
    "    {\"_id\": 26, \"first_name\": \"Seema\", \"last_name\": \"Das\", \"gender\": \"Female\", \"mark\": 88, \"grade\": \"A\", \"department\": \"MCA\", \"place\": \"Pathanamthitta\", \"course\": \"MCA\"},\n",
    "    {\"_id\": 27, \"first_name\": \"Vimal\", \"last_name\": \"Kumar\", \"gender\": \"Male\", \"mark\": 84, \"grade\": \"A\", \"department\": \"Mechanical\", \"place\": \"Thrissur\", \"course\": \"Btech Mechanical\"},\n",
    "    {\"_id\": 28, \"first_name\": \"Anjana\", \"last_name\": \"Prasad\", \"gender\": \"Female\", \"mark\": 89, \"grade\": \"A+\", \"department\": \"MCA\", \"place\": \"Kannur\", \"course\": \"MCA\"},\n",
    "    {\"_id\": 29, \"first_name\": \"Suresh\", \"last_name\": \"Reddy\", \"gender\": \"Male\", \"mark\": 88, \"grade\": \"A\", \"department\": \"Mechanical\", \"place\": \"Ernakulam\", \"course\": \"Btech Mechanical\"},\n",
    "    {\"_id\": 30, \"first_name\": \"Rekha\", \"last_name\": \"Sivan\", \"gender\": \"Female\", \"mark\": 96, \"grade\": \"A+\", \"department\": \"MCA\", \"place\": \"Kasaragod\", \"course\": \"MCA\"},\n",
    "]\n",
    "collection.insert_many(document)"
   ]
  },
  {
   "cell_type": "code",
   "execution_count": null,
   "metadata": {},
   "outputs": [
    {
     "data": {
      "text/plain": [
       "InsertManyResult([31, 32, 33, 34, 35], acknowledged=True)"
      ]
     },
     "execution_count": 15,
     "metadata": {},
     "output_type": "execute_result"
    }
   ],
   "source": [
    "mechanical_girls = [\n",
    "    {\"_id\": 31, \"first_name\": \"Nayana\", \"last_name\": \"Krishnan\", \"gender\": \"Female\", \"mark\": 87, \"grade\": \"A\", \"department\": \"Mechanical\", \"place\": \"Kottayam\", \"course\": \"Btech Mechanical\"},\n",
    "    {\"_id\": 32, \"first_name\": \"Sneha\", \"last_name\": \"Pillai\", \"gender\": \"Female\", \"mark\": 92, \"grade\": \"A+\", \"department\": \"Mechanical\", \"place\": \"Kollam\", \"course\": \"Btech Mechanical\"},\n",
    "    {\"_id\": 33, \"first_name\": \"Arya\", \"last_name\": \"Raj\", \"gender\": \"Female\", \"mark\": 85, \"grade\": \"A\", \"department\": \"Mechanical\", \"place\": \"Thrissur\", \"course\": \"Btech Mechanical\"},\n",
    "    {\"_id\": 34, \"first_name\": \"Meera\", \"last_name\": \"Varma\", \"gender\": \"Female\", \"mark\": 90, \"grade\": \"A+\", \"department\": \"Mechanical\", \"place\": \"Alappuzha\", \"course\": \"Btech Mechanical\"},\n",
    "    {\"_id\": 35, \"first_name\": \"Lakshmi\", \"last_name\": \"Nair\", \"gender\": \"Female\", \"mark\": 88, \"grade\": \"A+\", \"department\": \"Mechanical\", \"place\": \"Pathanamthitta\", \"course\": \"Btech Mechanical\"}\n",
    "]\n",
    "collection.insert_many(mechanical_girls)"
   ]
  },
  {
   "cell_type": "code",
   "execution_count": 17,
   "metadata": {},
   "outputs": [
    {
     "name": "stdout",
     "output_type": "stream",
     "text": [
      "{'first_name': 'Anu', 'last_name': 'Joseph', 'mark': 95}\n",
      "{'first_name': 'Meera', 'last_name': 'Raj', 'mark': 92}\n",
      "{'first_name': 'Asha', 'last_name': 'Nair', 'mark': 88}\n",
      "{'first_name': 'Divya', 'last_name': 'Pillai', 'mark': 98}\n",
      "{'first_name': 'Sita', 'last_name': 'Ram', 'mark': 91}\n",
      "{'first_name': 'Lakshmi', 'last_name': 'Menon', 'mark': 94}\n",
      "{'first_name': 'Arya', 'last_name': 'Krishnan', 'mark': 96}\n",
      "{'first_name': 'Sneha', 'last_name': 'Thomas', 'mark': 93}\n",
      "{'first_name': 'Geetha', 'last_name': 'Prakash', 'mark': 97}\n",
      "{'first_name': 'Lekha', 'last_name': 'Nair', 'mark': 90}\n",
      "{'first_name': 'Arya', 'last_name': 'Suresh', 'mark': 92}\n",
      "{'first_name': 'Seema', 'last_name': 'Das', 'mark': 88}\n",
      "{'first_name': 'Anjana', 'last_name': 'Prasad', 'mark': 89}\n",
      "{'first_name': 'Rekha', 'last_name': 'Sivan', 'mark': 96}\n"
     ]
    }
   ],
   "source": [
    "#display name both first name and last name and mark of all female students in mca\n",
    "result=collection.find({\"gender\":\"Female\",\"department\": \"MCA\"},{\"first_name\":1,\"last_name\":1,\"mark\":1,\"_id\":0})\n",
    "for x in result:\n",
    "    print(x)"
   ]
  },
  {
   "cell_type": "code",
   "execution_count": 25,
   "metadata": {},
   "outputs": [
    {
     "name": "stdout",
     "output_type": "stream",
     "text": [
      "{'_id': 7, 'first_name': 'Divya', 'last_name': 'Pillai', 'gender': 'Female', 'mark': 98, 'grade': 'A+', 'department': 'MCA', 'place': 'Kottayam', 'course': 'MCA'}\n"
     ]
    }
   ],
   "source": [
    "#2)display the details of students who secured highest mark in course mca\n",
    "result2=collection.find({\"department\": \"MCA\"}).sort(\"mark\", -1).limit(1)\n",
    "for x in result2:\n",
    "    print(x)"
   ]
  },
  {
   "cell_type": "code",
   "execution_count": 28,
   "metadata": {},
   "outputs": [
    {
     "name": "stdout",
     "output_type": "stream",
     "text": [
      "{'_id': 8, 'first_name': 'Rahul', 'last_name': 'Varma', 'gender': 'Male', 'mark': 90, 'grade': 'A+', 'department': 'Mechanical', 'place': 'Pathanamthitta', 'course': 'Btech Mechanical'}\n"
     ]
    }
   ],
   "source": [
    "#Display all male students whose got A+ grade\n",
    "result3=collection.find({\"grade\": \"A+\",\"gender\": \"Male\"})\n",
    "for x in result3:\n",
    "    print(x)"
   ]
  },
  {
   "cell_type": "code",
   "execution_count": 29,
   "metadata": {},
   "outputs": [
    {
     "name": "stdout",
     "output_type": "stream",
     "text": [
      "{'_id': 32, 'first_name': 'Sneha', 'last_name': 'Pillai', 'gender': 'Female', 'mark': 92, 'grade': 'A+', 'department': 'Mechanical', 'place': 'Kollam', 'course': 'Btech Mechanical'}\n",
      "{'_id': 8, 'first_name': 'Rahul', 'last_name': 'Varma', 'gender': 'Male', 'mark': 90, 'grade': 'A+', 'department': 'Mechanical', 'place': 'Pathanamthitta', 'course': 'Btech Mechanical'}\n",
      "{'_id': 34, 'first_name': 'Meera', 'last_name': 'Varma', 'gender': 'Female', 'mark': 90, 'grade': 'A+', 'department': 'Mechanical', 'place': 'Alappuzha', 'course': 'Btech Mechanical'}\n",
      "{'_id': 2, 'first_name': 'Arun', 'last_name': 'Kumar', 'gender': 'Male', 'mark': 89, 'grade': 'A', 'department': 'Mechanical', 'place': 'Ernakulam', 'course': 'Btech Mechanical'}\n",
      "{'_id': 29, 'first_name': 'Suresh', 'last_name': 'Reddy', 'gender': 'Male', 'mark': 88, 'grade': 'A', 'department': 'Mechanical', 'place': 'Ernakulam', 'course': 'Btech Mechanical'}\n"
     ]
    }
   ],
   "source": [
    "#4)Top 5 students in mechanical department \n",
    "result4=collection.find({\"department\": \"Mechanical\"}).sort(\"mark\",-1).limit(5)\n",
    "for x in result4:\n",
    "    print(x)"
   ]
  },
  {
   "cell_type": "code",
   "execution_count": 30,
   "metadata": {},
   "outputs": [
    {
     "name": "stdout",
     "output_type": "stream",
     "text": [
      "{'_id': 1, 'first_name': 'Anu', 'last_name': 'Joseph', 'gender': 'Female', 'mark': 95, 'grade': 'A+', 'department': 'MCA', 'place': 'Kollam', 'course': 'MCA'}\n",
      "{'_id': 3, 'first_name': 'Meera', 'last_name': 'Raj', 'gender': 'Female', 'mark': 92, 'grade': 'A+', 'department': 'MCA', 'place': 'Thiruvananthapuram', 'course': 'MCA'}\n",
      "{'_id': 7, 'first_name': 'Divya', 'last_name': 'Pillai', 'gender': 'Female', 'mark': 98, 'grade': 'A+', 'department': 'MCA', 'place': 'Kottayam', 'course': 'MCA'}\n",
      "{'_id': 11, 'first_name': 'Sita', 'last_name': 'Ram', 'gender': 'Female', 'mark': 91, 'grade': 'A+', 'department': 'MCA', 'place': 'Alappuzha', 'course': 'MCA'}\n",
      "{'_id': 14, 'first_name': 'Lakshmi', 'last_name': 'Menon', 'gender': 'Female', 'mark': 94, 'grade': 'A+', 'department': 'MCA', 'place': 'Palakkad', 'course': 'MCA'}\n",
      "{'_id': 16, 'first_name': 'Arya', 'last_name': 'Krishnan', 'gender': 'Female', 'mark': 96, 'grade': 'A+', 'department': 'MCA', 'place': 'Kollam', 'course': 'MCA'}\n",
      "{'_id': 18, 'first_name': 'Sneha', 'last_name': 'Thomas', 'gender': 'Female', 'mark': 93, 'grade': 'A+', 'department': 'MCA', 'place': 'Idukki', 'course': 'MCA'}\n",
      "{'_id': 20, 'first_name': 'Geetha', 'last_name': 'Prakash', 'gender': 'Female', 'mark': 97, 'grade': 'A+', 'department': 'MCA', 'place': 'Thrissur', 'course': 'MCA'}\n",
      "{'_id': 24, 'first_name': 'Arya', 'last_name': 'Suresh', 'gender': 'Female', 'mark': 92, 'grade': 'A+', 'department': 'MCA', 'place': 'Kasargod', 'course': 'MCA'}\n",
      "{'_id': 30, 'first_name': 'Rekha', 'last_name': 'Sivan', 'gender': 'Female', 'mark': 96, 'grade': 'A+', 'department': 'MCA', 'place': 'Kasaragod', 'course': 'MCA'}\n",
      "{'_id': 32, 'first_name': 'Sneha', 'last_name': 'Pillai', 'gender': 'Female', 'mark': 92, 'grade': 'A+', 'department': 'Mechanical', 'place': 'Kollam', 'course': 'Btech Mechanical'}\n"
     ]
    }
   ],
   "source": [
    "#display females students with mark more than 90\n",
    "result4=collection.find({\"gender\":\"Female\",'mark': {\"$gt\":90}})\n",
    "for x in result4:\n",
    "    print(x)"
   ]
  },
  {
   "cell_type": "code",
   "execution_count": 33,
   "metadata": {},
   "outputs": [
    {
     "name": "stdout",
     "output_type": "stream",
     "text": [
      "{'_id': 2, 'first_name': 'Arun', 'last_name': 'Kumar', 'gender': 'Male', 'mark': 89, 'grade': 'A', 'department': 'Mechanical', 'place': 'Ernakulam', 'course': 'Btech Mechanical'}\n",
      "{'_id': 4, 'first_name': 'Abhilash', 'last_name': 'Menon', 'gender': 'Male', 'mark': 85, 'grade': 'A', 'department': 'Mechanical', 'place': 'Kozhikode', 'course': 'Btech Mechanical'}\n",
      "{'_id': 5, 'first_name': 'Asha', 'last_name': 'Nair', 'gender': 'Female', 'mark': 88, 'grade': 'A+', 'department': 'MCA', 'place': 'Kottayam', 'course': 'MCA'}\n",
      "{'_id': 8, 'first_name': 'Rahul', 'last_name': 'Varma', 'gender': 'Male', 'mark': 90, 'grade': 'A+', 'department': 'Mechanical', 'place': 'Pathanamthitta', 'course': 'Btech Mechanical'}\n",
      "{'_id': 9, 'first_name': 'Vinay', 'last_name': 'Krishna', 'gender': 'Male', 'mark': 82, 'grade': 'A', 'department': 'Mechanical', 'place': 'Thrissur', 'course': 'Btech Mechanical'}\n",
      "{'_id': 13, 'first_name': 'Anil', 'last_name': 'Rajan', 'gender': 'Male', 'mark': 86, 'grade': 'A', 'department': 'Mechanical', 'place': 'Kollam', 'course': 'Btech Mechanical'}\n",
      "{'_id': 15, 'first_name': 'Ravi', 'last_name': 'Varma', 'gender': 'Male', 'mark': 83, 'grade': 'A', 'department': 'Mechanical', 'place': 'Kottayam', 'course': 'Btech Mechanical'}\n",
      "{'_id': 17, 'first_name': 'Hari', 'last_name': 'Narayan', 'gender': 'Male', 'mark': 84, 'grade': 'A', 'department': 'Mechanical', 'place': 'Pathanamthitta', 'course': 'Btech Mechanical'}\n",
      "{'_id': 19, 'first_name': 'Vineeth', 'last_name': 'Mathew', 'gender': 'Male', 'mark': 81, 'grade': 'B', 'department': 'Mechanical', 'place': 'Alappuzha', 'course': 'Btech Mechanical'}\n",
      "{'_id': 22, 'first_name': 'Lekha', 'last_name': 'Nair', 'gender': 'Female', 'mark': 90, 'grade': 'A', 'department': 'MCA', 'place': 'Ernakulam', 'course': 'MCA'}\n",
      "{'_id': 23, 'first_name': 'Nitin', 'last_name': 'Sankar', 'gender': 'Male', 'mark': 87, 'grade': 'A', 'department': 'Mechanical', 'place': 'Kozhikode', 'course': 'Btech Mechanical'}\n",
      "{'_id': 25, 'first_name': 'Sarath', 'last_name': 'Ravi', 'gender': 'Male', 'mark': 83, 'grade': 'B', 'department': 'Mechanical', 'place': 'Palakkad', 'course': 'Btech Mechanical'}\n",
      "{'_id': 26, 'first_name': 'Seema', 'last_name': 'Das', 'gender': 'Female', 'mark': 88, 'grade': 'A', 'department': 'MCA', 'place': 'Pathanamthitta', 'course': 'MCA'}\n",
      "{'_id': 27, 'first_name': 'Vimal', 'last_name': 'Kumar', 'gender': 'Male', 'mark': 84, 'grade': 'A', 'department': 'Mechanical', 'place': 'Thrissur', 'course': 'Btech Mechanical'}\n",
      "{'_id': 28, 'first_name': 'Anjana', 'last_name': 'Prasad', 'gender': 'Female', 'mark': 89, 'grade': 'A+', 'department': 'MCA', 'place': 'Kannur', 'course': 'MCA'}\n",
      "{'_id': 29, 'first_name': 'Suresh', 'last_name': 'Reddy', 'gender': 'Male', 'mark': 88, 'grade': 'A', 'department': 'Mechanical', 'place': 'Ernakulam', 'course': 'Btech Mechanical'}\n",
      "{'_id': 31, 'first_name': 'Nayana', 'last_name': 'Krishnan', 'gender': 'Female', 'mark': 87, 'grade': 'A', 'department': 'Mechanical', 'place': 'Kottayam', 'course': 'Btech Mechanical'}\n",
      "{'_id': 33, 'first_name': 'Arya', 'last_name': 'Raj', 'gender': 'Female', 'mark': 85, 'grade': 'A', 'department': 'Mechanical', 'place': 'Thrissur', 'course': 'Btech Mechanical'}\n",
      "{'_id': 34, 'first_name': 'Meera', 'last_name': 'Varma', 'gender': 'Female', 'mark': 90, 'grade': 'A+', 'department': 'Mechanical', 'place': 'Alappuzha', 'course': 'Btech Mechanical'}\n",
      "{'_id': 35, 'first_name': 'Lakshmi', 'last_name': 'Nair', 'gender': 'Female', 'mark': 88, 'grade': 'A+', 'department': 'Mechanical', 'place': 'Pathanamthitta', 'course': 'Btech Mechanical'}\n"
     ]
    }
   ],
   "source": [
    "#display students with mark in between 80 and 90\n",
    "result6=collection.find({'mark': {\"$gte\":80,\"$lte\":90 }})\n",
    "for x in result6:\n",
    "    print(x)"
   ]
  },
  {
   "cell_type": "code",
   "execution_count": 34,
   "metadata": {},
   "outputs": [
    {
     "name": "stdout",
     "output_type": "stream",
     "text": [
      "{'_id': 1, 'first_name': 'Anu', 'last_name': 'Joseph', 'gender': 'Female', 'mark': 95, 'grade': 'A+', 'department': 'MCA', 'place': 'Kollam', 'course': 'MCA'}\n",
      "{'_id': 2, 'first_name': 'Arun', 'last_name': 'Kumar', 'gender': 'Male', 'mark': 89, 'grade': 'A', 'department': 'Mechanical', 'place': 'Ernakulam', 'course': 'Btech Mechanical'}\n",
      "{'_id': 4, 'first_name': 'Abhilash', 'last_name': 'Menon', 'gender': 'Male', 'mark': 85, 'grade': 'A', 'department': 'Mechanical', 'place': 'Kozhikode', 'course': 'Btech Mechanical'}\n",
      "{'_id': 5, 'first_name': 'Asha', 'last_name': 'Nair', 'gender': 'Female', 'mark': 88, 'grade': 'A+', 'department': 'MCA', 'place': 'Kottayam', 'course': 'MCA'}\n",
      "{'_id': 10, 'first_name': 'Ajith', 'last_name': 'Das', 'gender': 'Male', 'mark': 79, 'grade': 'B', 'department': 'MCA', 'place': 'Alappuzha', 'course': 'MCA'}\n",
      "{'_id': 13, 'first_name': 'Anil', 'last_name': 'Rajan', 'gender': 'Male', 'mark': 86, 'grade': 'A', 'department': 'Mechanical', 'place': 'Kollam', 'course': 'Btech Mechanical'}\n",
      "{'_id': 16, 'first_name': 'Arya', 'last_name': 'Krishnan', 'gender': 'Female', 'mark': 96, 'grade': 'A+', 'department': 'MCA', 'place': 'Kollam', 'course': 'MCA'}\n",
      "{'_id': 24, 'first_name': 'Arya', 'last_name': 'Suresh', 'gender': 'Female', 'mark': 92, 'grade': 'A+', 'department': 'MCA', 'place': 'Kasargod', 'course': 'MCA'}\n",
      "{'_id': 28, 'first_name': 'Anjana', 'last_name': 'Prasad', 'gender': 'Female', 'mark': 89, 'grade': 'A+', 'department': 'MCA', 'place': 'Kannur', 'course': 'MCA'}\n",
      "{'_id': 33, 'first_name': 'Arya', 'last_name': 'Raj', 'gender': 'Female', 'mark': 85, 'grade': 'A', 'department': 'Mechanical', 'place': 'Thrissur', 'course': 'Btech Mechanical'}\n"
     ]
    }
   ],
   "source": [
    "#Display students with name starting with A\n",
    "result6=collection.find({\"first_name\": {\"$regex\": \"^A\", \"$options\": \"i\"}})\n",
    "for x in result6:\n",
    "    print(x)"
   ]
  },
  {
   "cell_type": "code",
   "execution_count": 35,
   "metadata": {},
   "outputs": [
    {
     "name": "stdout",
     "output_type": "stream",
     "text": [
      "{'_id': 1, 'first_name': 'Anu', 'last_name': 'Joseph', 'gender': 'Female', 'mark': 95, 'grade': 'A+', 'department': 'MCA', 'place': 'Kollam', 'course': 'MCA'}\n",
      "{'_id': 6, 'first_name': 'Binu', 'last_name': 'George', 'gender': 'Male', 'mark': 76, 'grade': 'B', 'department': 'Mechanical', 'place': 'Kollam', 'course': 'Btech Mechanical'}\n",
      "{'_id': 13, 'first_name': 'Anil', 'last_name': 'Rajan', 'gender': 'Male', 'mark': 86, 'grade': 'A', 'department': 'Mechanical', 'place': 'Kollam', 'course': 'Btech Mechanical'}\n",
      "{'_id': 16, 'first_name': 'Arya', 'last_name': 'Krishnan', 'gender': 'Female', 'mark': 96, 'grade': 'A+', 'department': 'MCA', 'place': 'Kollam', 'course': 'MCA'}\n",
      "{'_id': 32, 'first_name': 'Sneha', 'last_name': 'Pillai', 'gender': 'Female', 'mark': 92, 'grade': 'A+', 'department': 'Mechanical', 'place': 'Kollam', 'course': 'Btech Mechanical'}\n"
     ]
    }
   ],
   "source": [
    "#display students from Kollam\n",
    "result7=collection.find({'place': \"Kollam\"})\n",
    "for x in result7:\n",
    "    print(x)"
   ]
  },
  {
   "cell_type": "code",
   "execution_count": 41,
   "metadata": {},
   "outputs": [
    {
     "name": "stdout",
     "output_type": "stream",
     "text": [
      "{'_id': 1, 'first_name': 'Anu', 'last_name': 'Joseph', 'gender': 'Female', 'mark': 95, 'grade': 'A+', 'department': 'MCA', 'place': 'Kollam', 'course': 'MCA'}\n",
      "{'_id': 2, 'first_name': 'Arun', 'last_name': 'Kumar', 'gender': 'Male', 'mark': 89, 'grade': 'A', 'department': 'Mechanical', 'place': 'Ernakulam', 'course': 'Btech Mechanical'}\n",
      "{'_id': 4, 'first_name': 'Abhilash', 'last_name': 'Menon', 'gender': 'Male', 'mark': 85, 'grade': 'A', 'department': 'Mechanical', 'place': 'Kozhikode', 'course': 'Btech Mechanical'}\n",
      "{'_id': 5, 'first_name': 'Asha', 'last_name': 'Nair', 'gender': 'Female', 'mark': 88, 'grade': 'A+', 'department': 'MCA', 'place': 'Kottayam', 'course': 'MCA'}\n",
      "{'_id': 6, 'first_name': 'Binu', 'last_name': 'George', 'gender': 'Male', 'mark': 76, 'grade': 'B', 'department': 'Mechanical', 'place': 'Kollam', 'course': 'Btech Mechanical'}\n",
      "{'_id': 7, 'first_name': 'Divya', 'last_name': 'Pillai', 'gender': 'Female', 'mark': 98, 'grade': 'A+', 'department': 'MCA', 'place': 'Kottayam', 'course': 'MCA'}\n",
      "{'_id': 8, 'first_name': 'Rahul', 'last_name': 'Varma', 'gender': 'Male', 'mark': 90, 'grade': 'A+', 'department': 'Mechanical', 'place': 'Pathanamthitta', 'course': 'Btech Mechanical'}\n",
      "{'_id': 9, 'first_name': 'Vinay', 'last_name': 'Krishna', 'gender': 'Male', 'mark': 82, 'grade': 'A', 'department': 'Mechanical', 'place': 'Thrissur', 'course': 'Btech Mechanical'}\n",
      "{'_id': 10, 'first_name': 'Ajith', 'last_name': 'Das', 'gender': 'Male', 'mark': 79, 'grade': 'B', 'department': 'MCA', 'place': 'Alappuzha', 'course': 'MCA'}\n",
      "{'_id': 11, 'first_name': 'Sita', 'last_name': 'Ram', 'gender': 'Female', 'mark': 91, 'grade': 'A+', 'department': 'MCA', 'place': 'Alappuzha', 'course': 'MCA'}\n",
      "{'_id': 12, 'first_name': 'Manu', 'last_name': 'Sharma', 'gender': 'Male', 'mark': 78, 'grade': 'B', 'department': 'Mechanical', 'place': 'Kannur', 'course': 'Btech Mechanical'}\n",
      "{'_id': 13, 'first_name': 'Anil', 'last_name': 'Rajan', 'gender': 'Male', 'mark': 86, 'grade': 'A', 'department': 'Mechanical', 'place': 'Kollam', 'course': 'Btech Mechanical'}\n",
      "{'_id': 14, 'first_name': 'Lakshmi', 'last_name': 'Menon', 'gender': 'Female', 'mark': 94, 'grade': 'A+', 'department': 'MCA', 'place': 'Palakkad', 'course': 'MCA'}\n",
      "{'_id': 15, 'first_name': 'Ravi', 'last_name': 'Varma', 'gender': 'Male', 'mark': 83, 'grade': 'A', 'department': 'Mechanical', 'place': 'Kottayam', 'course': 'Btech Mechanical'}\n",
      "{'_id': 16, 'first_name': 'Arya', 'last_name': 'Krishnan', 'gender': 'Female', 'mark': 96, 'grade': 'A+', 'department': 'MCA', 'place': 'Kollam', 'course': 'MCA'}\n",
      "{'_id': 17, 'first_name': 'Hari', 'last_name': 'Narayan', 'gender': 'Male', 'mark': 84, 'grade': 'A', 'department': 'Mechanical', 'place': 'Pathanamthitta', 'course': 'Btech Mechanical'}\n",
      "{'_id': 18, 'first_name': 'Sneha', 'last_name': 'Thomas', 'gender': 'Female', 'mark': 93, 'grade': 'A+', 'department': 'MCA', 'place': 'Idukki', 'course': 'MCA'}\n",
      "{'_id': 19, 'first_name': 'Vineeth', 'last_name': 'Mathew', 'gender': 'Male', 'mark': 81, 'grade': 'B', 'department': 'Mechanical', 'place': 'Alappuzha', 'course': 'Btech Mechanical'}\n",
      "{'_id': 20, 'first_name': 'Geetha', 'last_name': 'Prakash', 'gender': 'Female', 'mark': 97, 'grade': 'A+', 'department': 'MCA', 'place': 'Thrissur', 'course': 'MCA'}\n",
      "{'_id': 21, 'first_name': 'Kiran', 'last_name': 'Pillai', 'gender': 'Male', 'mark': 77, 'grade': 'B', 'department': 'Mechanical', 'place': 'Wayanad', 'course': 'Btech Mechanical'}\n",
      "{'_id': 22, 'first_name': 'Lekha', 'last_name': 'Nair', 'gender': 'Female', 'mark': 90, 'grade': 'A', 'department': 'MCA', 'place': 'Ernakulam', 'course': 'MCA'}\n",
      "{'_id': 23, 'first_name': 'Nitin', 'last_name': 'Sankar', 'gender': 'Male', 'mark': 87, 'grade': 'A', 'department': 'Mechanical', 'place': 'Kozhikode', 'course': 'Btech Mechanical'}\n",
      "{'_id': 24, 'first_name': 'Arya', 'last_name': 'Suresh', 'gender': 'Female', 'mark': 92, 'grade': 'A+', 'department': 'MCA', 'place': 'Kasargod', 'course': 'MCA'}\n",
      "{'_id': 25, 'first_name': 'Sarath', 'last_name': 'Ravi', 'gender': 'Male', 'mark': 83, 'grade': 'B', 'department': 'Mechanical', 'place': 'Palakkad', 'course': 'Btech Mechanical'}\n",
      "{'_id': 26, 'first_name': 'Seema', 'last_name': 'Das', 'gender': 'Female', 'mark': 88, 'grade': 'A', 'department': 'MCA', 'place': 'Pathanamthitta', 'course': 'MCA'}\n",
      "{'_id': 27, 'first_name': 'Vimal', 'last_name': 'Kumar', 'gender': 'Male', 'mark': 84, 'grade': 'A', 'department': 'Mechanical', 'place': 'Thrissur', 'course': 'Btech Mechanical'}\n",
      "{'_id': 28, 'first_name': 'Anjana', 'last_name': 'Prasad', 'gender': 'Female', 'mark': 89, 'grade': 'A+', 'department': 'MCA', 'place': 'Kannur', 'course': 'MCA'}\n",
      "{'_id': 29, 'first_name': 'Suresh', 'last_name': 'Reddy', 'gender': 'Male', 'mark': 88, 'grade': 'A', 'department': 'Mechanical', 'place': 'Ernakulam', 'course': 'Btech Mechanical'}\n",
      "{'_id': 30, 'first_name': 'Rekha', 'last_name': 'Sivan', 'gender': 'Female', 'mark': 96, 'grade': 'A+', 'department': 'MCA', 'place': 'Kasaragod', 'course': 'MCA'}\n",
      "{'_id': 31, 'first_name': 'Nayana', 'last_name': 'Krishnan', 'gender': 'Female', 'mark': 87, 'grade': 'A', 'department': 'Mechanical', 'place': 'Kottayam', 'course': 'Btech Mechanical'}\n",
      "{'_id': 32, 'first_name': 'Sneha', 'last_name': 'Pillai', 'gender': 'Female', 'mark': 92, 'grade': 'A+', 'department': 'Mechanical', 'place': 'Kollam', 'course': 'Btech Mechanical'}\n",
      "{'_id': 33, 'first_name': 'Arya', 'last_name': 'Raj', 'gender': 'Female', 'mark': 85, 'grade': 'A', 'department': 'Mechanical', 'place': 'Thrissur', 'course': 'Btech Mechanical'}\n",
      "{'_id': 34, 'first_name': 'Meera', 'last_name': 'Varma', 'gender': 'Female', 'mark': 90, 'grade': 'A+', 'department': 'Mechanical', 'place': 'Alappuzha', 'course': 'Btech Mechanical'}\n",
      "{'_id': 35, 'first_name': 'Lakshmi', 'last_name': 'Nair', 'gender': 'Female', 'mark': 88, 'grade': 'A+', 'department': 'Mechanical', 'place': 'Pathanamthitta', 'course': 'Btech Mechanical'}\n"
     ]
    }
   ],
   "source": [
    "#Display students neither from Malappuram no Trivandrum\n",
    "result7=collection.find({'place': {\"$nin\": [\"Malappuram\", \"Thiruvananthapuram\"]}})\n",
    "for x in result7:\n",
    "    print(x)"
   ]
  }
 ],
 "metadata": {
  "kernelspec": {
   "display_name": "Python 3",
   "language": "python",
   "name": "python3"
  },
  "language_info": {
   "codemirror_mode": {
    "name": "ipython",
    "version": 3
   },
   "file_extension": ".py",
   "mimetype": "text/x-python",
   "name": "python",
   "nbconvert_exporter": "python",
   "pygments_lexer": "ipython3",
   "version": "3.11.9"
  }
 },
 "nbformat": 4,
 "nbformat_minor": 2
}

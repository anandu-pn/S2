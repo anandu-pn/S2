{
 "cells": [
  {
   "cell_type": "code",
   "execution_count": 10,
   "metadata": {},
   "outputs": [],
   "source": [
    "from pymongo import MongoClient\n",
    "conn = MongoClient(\"mongodb://localhost:27017/\")\n",
    "db = conn[\"adstest\"]\n",
    "collection = db[\"student\"]"
   ]
  },
  {
   "cell_type": "code",
   "execution_count": null,
   "metadata": {},
   "outputs": [],
   "source": [
    "sample_data = {\"__id\":1,\"name\": \"Vasco\", \"age\": 21, \"department\": \"Mech\"}\n",
    "students = [\n",
    "    {\"_id\": 1, \"name\": \"Alice\", \"age\": 22, \"department\": \"CS\"},\n",
    "    {\"_id\": 2, \"name\": \"Bob\", \"age\": 24, \"department\": \"IT\"},\n",
    "    {\"_id\": 3, \"name\": \"Charlie\", \"age\": 23, \"department\": \"Physics\"},\n",
    "    {\"_id\": 4, \"name\": \"Diana\", \"age\": 21, \"department\": \"Biology\"}\n",
    "]\n",
    "collection.insert_many(students)"
   ]
  },
  {
   "cell_type": "code",
   "execution_count": null,
   "metadata": {},
   "outputs": [],
   "source": [
    "i=0\n",
    "for document in collection.find():\n",
    "    if(i==0):\n",
    "        print(list(document.keys()))\n",
    "    print(list(document.values()))\n",
    "    i=i+1"
   ]
  },
  {
   "cell_type": "code",
   "execution_count": 11,
   "metadata": {},
   "outputs": [
    {
     "name": "stdout",
     "output_type": "stream",
     "text": [
      "{'name': 'John Doe'}\n",
      "{'name': 'Vasco'}\n",
      "{'name': 'Alice'}\n",
      "{'name': 'Bob'}\n",
      "{'name': 'Charlie'}\n",
      "{'name': 'Diana'}\n"
     ]
    }
   ],
   "source": [
    "var=collection.find({},{\"_id\": 0, \"name\": 1})\n",
    "for i in var:\n",
    "    print(i)\n",
    "conn.close()"
   ]
  },
  {
   "cell_type": "markdown",
   "metadata": {},
   "source": [
    "in this we going to find a person with name or similar to select from"
   ]
  },
  {
   "cell_type": "code",
   "execution_count": 7,
   "metadata": {},
   "outputs": [
    {
     "name": "stdout",
     "output_type": "stream",
     "text": [
      "{'_id': 2, 'name': 'Bob', 'age': 24, 'department': 'IT'}\n"
     ]
    }
   ],
   "source": [
    "from pymongo import MongoClient\n",
    "conn = MongoClient(\"mongodb://localhost:27017/\")\n",
    "db = conn[\"adstest\"]\n",
    "collection = db[\"student\"]\n",
    "#here limit return 2 documnets mathching\n",
    "var=collection.find({\"name\": \"Bob\",\"age\":24}).limit(2)\n",
    "for i in var:\n",
    "    print(i)\n",
    "    \n",
    "#conn.close()"
   ]
  },
  {
   "cell_type": "code",
   "execution_count": 34,
   "metadata": {},
   "outputs": [
    {
     "name": "stdout",
     "output_type": "stream",
     "text": [
      "Documents inserted with IDs: [ObjectId('67e2338f56feba6ca645393a'), ObjectId('67e2338f56feba6ca645393b'), ObjectId('67e2338f56feba6ca645393c')]\n"
     ]
    }
   ],
   "source": [
    "collection1=db[\"class_stu\"]\n",
    "documents=[\n",
    "    {\"Name\":\"sandra\",\"Age\":21,\"Place\":\"Ernakulam\"},\n",
    "    {\"Name\":\"Devi\",\"Age\":23,\"Place\":\"Malppuram\"},\n",
    "    {\"Name\":\"Nazrin\",\"Age\":21,\"Place\":\"Kottayam\"}\n",
    "]\n",
    "result=collection1.insert_many(documents)\n",
    "print(f\"Documents inserted with IDs: {result.inserted_ids}\")"
   ]
  },
  {
   "cell_type": "code",
   "execution_count": null,
   "metadata": {},
   "outputs": [],
   "source": []
  },
  {
   "cell_type": "code",
   "execution_count": null,
   "metadata": {},
   "outputs": [
    {
     "name": "stdout",
     "output_type": "stream",
     "text": [
      "{'_id': ObjectId('67e22d0f56feba6ca6453938'), 'Name': 'Devi', 'Age': 23, 'Place': 'Malppuram'}\n"
     ]
    }
   ],
   "source": [
    "#to view the data inserted\n",
    "var=collection1.find({\"Age\":23})\n",
    "for doc in var:\n",
    "    print(doc)"
   ]
  },
  {
   "cell_type": "code",
   "execution_count": 32,
   "metadata": {},
   "outputs": [],
   "source": [
    "#to update place of peoples with age 21\n",
    "result=collection1.update_many(\n",
    "    {\"Age\":23},\n",
    "    {\"$set\":{\"Place\":\"Malappuram\"}}\n",
    ")"
   ]
  },
  {
   "cell_type": "code",
   "execution_count": 33,
   "metadata": {},
   "outputs": [
    {
     "data": {
      "text/plain": [
       "DeleteResult({'n': 2, 'ok': 1.0}, acknowledged=True)"
      ]
     },
     "execution_count": 33,
     "metadata": {},
     "output_type": "execute_result"
    }
   ],
   "source": [
    "#deleting many \n",
    "collection1.delete_many({\"Age\":21})"
   ]
  },
  {
   "cell_type": "code",
   "execution_count": null,
   "metadata": {},
   "outputs": [
    {
     "name": "stdout",
     "output_type": "stream",
     "text": [
      "{'_id': ObjectId('67e2338f56feba6ca645393b'), 'Name': 'Devi', 'Age': 23, 'Place': 'Malppuram'}\n"
     ]
    }
   ],
   "source": [
    "#age greter than 20\n",
    "result=collection1.find({\"Age\": {\"$gt\" :20}})\n",
    "for doc in result:\n",
    "    print(doc)"
   ]
  },
  {
   "cell_type": "code",
   "execution_count": null,
   "metadata": {},
   "outputs": [
    {
     "name": "stdout",
     "output_type": "stream",
     "text": [
      "{'_id': ObjectId('67e2338f56feba6ca645393a'), 'Name': 'sandra', 'Age': 21, 'Place': 'Ernakulam'}\n"
     ]
    }
   ],
   "source": [
    "#select * from table where name starts with S\n",
    "result=collection1.find({\"Name\": {\"$regex\": \"^S\", \"$options\": \"i\"}}) #$options :i makes this case insensitive\n",
    "for doc in result:\n",
    "    print(doc)"
   ]
  },
  {
   "cell_type": "code",
   "execution_count": 47,
   "metadata": {},
   "outputs": [
    {
     "name": "stdout",
     "output_type": "stream",
     "text": [
      "{'Name': 'Devi', 'Age': 23, 'Place': 'Malppuram'}\n"
     ]
    }
   ],
   "source": [
    "#select * from table where name ends with i\n",
    "result=collection1.find({\"Name\": {\"$regex\": \"i$\", \"$options\": \"i\"}},{\"_id\":0}) #$options :i makes this case insensitive also {\"_id\":0} uses to hide id in the output\n",
    "for doc in result:\n",
    "    print(doc)"
   ]
  }
 ],
 "metadata": {
  "kernelspec": {
   "display_name": "Python 3",
   "language": "python",
   "name": "python3"
  },
  "language_info": {
   "codemirror_mode": {
    "name": "ipython",
    "version": 3
   },
   "file_extension": ".py",
   "mimetype": "text/x-python",
   "name": "python",
   "nbconvert_exporter": "python",
   "pygments_lexer": "ipython3",
   "version": "3.11.9"
  }
 },
 "nbformat": 4,
 "nbformat_minor": 2
}

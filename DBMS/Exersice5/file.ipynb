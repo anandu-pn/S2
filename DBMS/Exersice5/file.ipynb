{
 "cells": [
  {
   "cell_type": "code",
   "execution_count": 10,
   "metadata": {},
   "outputs": [],
   "source": [
    "from pymongo import MongoClient\n",
    "conn = MongoClient(\"mongodb://localhost:27017/\")\n",
    "db = conn[\"adstest\"]\n",
    "collection = db[\"student\"]"
   ]
  },
  {
   "cell_type": "code",
   "execution_count": null,
   "metadata": {},
   "outputs": [],
   "source": [
    "sample_data = {\"__id\":1,\"name\": \"Vasco\", \"age\": 21, \"department\": \"Mech\"}\n",
    "students = [\n",
    "    {\"_id\": 1, \"name\": \"Alice\", \"age\": 22, \"department\": \"CS\"},\n",
    "    {\"_id\": 2, \"name\": \"Bob\", \"age\": 24, \"department\": \"IT\"},\n",
    "    {\"_id\": 3, \"name\": \"Charlie\", \"age\": 23, \"department\": \"Physics\"},\n",
    "    {\"_id\": 4, \"name\": \"Diana\", \"age\": 21, \"department\": \"Biology\"}\n",
    "]\n",
    "collection.insert_many(students)"
   ]
  },
  {
   "cell_type": "code",
   "execution_count": null,
   "metadata": {},
   "outputs": [],
   "source": [
    "i=0\n",
    "for document in collection.find():\n",
    "    if(i==0):\n",
    "        print(list(document.keys()))\n",
    "    print(list(document.values()))\n",
    "    i=i+1"
   ]
  },
  {
   "cell_type": "code",
   "execution_count": 11,
   "metadata": {},
   "outputs": [
    {
     "name": "stdout",
     "output_type": "stream",
     "text": [
      "{'name': 'John Doe'}\n",
      "{'name': 'Vasco'}\n",
      "{'name': 'Alice'}\n",
      "{'name': 'Bob'}\n",
      "{'name': 'Charlie'}\n",
      "{'name': 'Diana'}\n"
     ]
    }
   ],
   "source": [
    "var=collection.find({},{\"_id\": 0, \"name\": 1})\n",
    "for i in var:\n",
    "    print(i)\n",
    "conn.close()"
   ]
  },
  {
   "cell_type": "markdown",
   "metadata": {},
   "source": [
    "in this we going to find a person with name or similar to select from"
   ]
  },
  {
   "cell_type": "code",
   "execution_count": null,
   "metadata": {},
   "outputs": [
    {
     "name": "stdout",
     "output_type": "stream",
     "text": [
      "{'_id': 2, 'name': 'Bob', 'age': 24, 'department': 'IT'}\n"
     ]
    }
   ],
   "source": [
    "from pymongo import MongoClient\n",
    "conn = MongoClient(\"mongodb://localhost:27017/\")\n",
    "db = conn[\"adstest\"]\n",
    "collection = db[\"student\"]\n",
    "#here limit return 2 documnets mathching\n",
    "var=collection.find({\"name\": \"Bob\",\"age\":24}).limit(2)\n",
    "for i in var:\n",
    "    print(i)\n",
    "    \n",
    "conn.close()"
   ]
  }
 ],
 "metadata": {
  "kernelspec": {
   "display_name": "Python 3",
   "language": "python",
   "name": "python3"
  },
  "language_info": {
   "codemirror_mode": {
    "name": "ipython",
    "version": 3
   },
   "file_extension": ".py",
   "mimetype": "text/x-python",
   "name": "python",
   "nbconvert_exporter": "python",
   "pygments_lexer": "ipython3",
   "version": "3.11.9"
  }
 },
 "nbformat": 4,
 "nbformat_minor": 2
}
